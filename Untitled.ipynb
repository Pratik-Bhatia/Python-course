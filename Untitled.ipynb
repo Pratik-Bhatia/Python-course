{
 "cells": [
  {
   "cell_type": "markdown",
   "id": "86a75356",
   "metadata": {},
   "source": [
    "print(\"Hello world\")"
   ]
  },
  {
   "cell_type": "code",
   "execution_count": null,
   "id": "b622cfa4",
   "metadata": {},
   "outputs": [],
   "source": [
    "<h1>Pratik Bhatia</h1>\n",
    "<p>Age 19<br>sandip university nashik</p>\n"
   ]
  }
 ],
 "metadata": {
  "kernelspec": {
   "display_name": "Python 3 (ipykernel)",
   "language": "python",
   "name": "python3"
  },
  "language_info": {
   "codemirror_mode": {
    "name": "ipython",
    "version": 3
   },
   "file_extension": ".py",
   "mimetype": "text/x-python",
   "name": "python",
   "nbconvert_exporter": "python",
   "pygments_lexer": "ipython3",
   "version": "3.9.13"
  }
 },
 "nbformat": 4,
 "nbformat_minor": 5
}
